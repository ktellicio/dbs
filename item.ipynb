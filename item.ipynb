{
 "cells": [
  {
   "cell_type": "markdown",
   "metadata": {},
   "source": [
    "# LicitaCon/TCE-RS: Exploratory Data Analysis\n",
    "\n",
    "\n",
    "\n",
    "\n",
    "Author: Karlson Tellicio Bezerra de Lima"
   ]
  },
  {
   "cell_type": "code",
   "execution_count": 1,
   "metadata": {
    "scrolled": true
   },
   "outputs": [
    {
     "name": "stderr",
     "output_type": "stream",
     "text": [
      "/home/ktellicio/.local/lib/python3.8/site-packages/IPython/core/interactiveshell.py:3062: DtypeWarning: Columns (1,27,28,30,31) have mixed types.Specify dtype option on import or set low_memory=False.\n",
      "  has_raised = await self.run_ast_nodes(code_ast.body, cell_name,\n",
      "/home/ktellicio/.local/lib/python3.8/site-packages/IPython/core/interactiveshell.py:3062: DtypeWarning: Columns (1,26,27,28,30,31) have mixed types.Specify dtype option on import or set low_memory=False.\n",
      "  has_raised = await self.run_ast_nodes(code_ast.body, cell_name,\n",
      "/home/ktellicio/.local/lib/python3.8/site-packages/IPython/core/interactiveshell.py:3062: DtypeWarning: Columns (1,25,26,27,28,30,31) have mixed types.Specify dtype option on import or set low_memory=False.\n",
      "  has_raised = await self.run_ast_nodes(code_ast.body, cell_name,\n",
      "/home/ktellicio/.local/lib/python3.8/site-packages/IPython/core/interactiveshell.py:3062: DtypeWarning: Columns (1,25,26,27,30,31) have mixed types.Specify dtype option on import or set low_memory=False.\n",
      "  has_raised = await self.run_ast_nodes(code_ast.body, cell_name,\n"
     ]
    }
   ],
   "source": [
    "import pandas as pd\n",
    "import seaborn as sns\n",
    "import numpy as np\n",
    "import unidecode\n",
    "import nltk\n",
    "import re\n",
    "import matplotlib.pyplot as plt\n",
    "%matplotlib inline \n",
    "\n",
    "pd.options.mode.chained_assignment = None  # default='warn'\n",
    "pd.set_option('display.max_columns', 999)\n",
    "\n",
    "path = '2016/item.csv'\n",
    "item2016 = pd.read_csv(path, encoding='utf-8', header=0, sep=',', decimal=\",\", );\n",
    "path = '2017/item.csv'\n",
    "item2017 = pd.read_csv(path, encoding='utf-8', header=0, sep=',', decimal=\",\", );\n",
    "path = '2018/item.csv'\n",
    "item2018 = pd.read_csv(path, encoding='utf-8', header=0, sep=',', decimal=\",\", );\n",
    "path = '2019/item.csv'\n",
    "item2019 = pd.read_csv(path, encoding='utf-8', header=0, sep=',', decimal=\",\", );"
   ]
  },
  {
   "cell_type": "code",
   "execution_count": 2,
   "metadata": {
    "scrolled": true
   },
   "outputs": [
    {
     "name": "stdout",
     "output_type": "stream",
     "text": [
      "Index(['CD_ORGAO', 'NR_LICITACAO', 'ANO_LICITACAO', 'CD_TIPO_MODALIDADE',\n",
      "       'NR_LOTE', 'NR_ITEM', 'NR_ITEM_ORIGINAL', 'DS_ITEM', 'QT_ITENS',\n",
      "       'SG_UNIDADE_MEDIDA', 'VL_UNITARIO_ESTIMADO', 'VL_TOTAL_ESTIMADO',\n",
      "       'DT_REF_VALOR_ESTIMADO', 'PC_BDI_ESTIMADO',\n",
      "       'PC_ENCARGOS_SOCIAIS_ESTIMADO', 'CD_FONTE_REFERENCIA',\n",
      "       'DS_FONTE_REFERENCIA', 'TP_RESULTADO_ITEM', 'VL_UNITARIO_HOMOLOGADO',\n",
      "       'VL_TOTAL_HOMOLOGADO', 'PC_BDI_HOMOLOGADO',\n",
      "       'PC_ENCARGOS_SOCIAIS_HOMOLOGADO', 'TP_ORCAMENTO', 'CD_TIPO_FAMILIA',\n",
      "       'CD_TIPO_SUBFAMILIA', 'TP_DOCUMENTO', 'NR_DOCUMENTO', 'TP_DOCUMENTO.1',\n",
      "       'NR_DOCUMENTO.1', 'TP_BENEFICIO_MICRO_EPP', 'PC_TX_ESTIMADA',\n",
      "       'PC_TX_HOMOLOGADA'],\n",
      "      dtype='object')\n"
     ]
    }
   ],
   "source": [
    "print(item2017.columns)"
   ]
  },
  {
   "cell_type": "code",
   "execution_count": 3,
   "metadata": {},
   "outputs": [
    {
     "name": "stdout",
     "output_type": "stream",
     "text": [
      "item_concat.shape:  (3200756, 32)\n"
     ]
    },
    {
     "data": {
      "text/plain": [
       "Index(['CD_ORGAO', 'NR_LICITACAO', 'ANO_LICITACAO', 'CD_TIPO_MODALIDADE',\n",
       "       'NR_LOTE', 'NR_ITEM', 'NR_ITEM_ORIGINAL', 'DS_ITEM', 'QT_ITENS',\n",
       "       'SG_UNIDADE_MEDIDA', 'VL_UNITARIO_ESTIMADO', 'VL_TOTAL_ESTIMADO',\n",
       "       'DT_REF_VALOR_ESTIMADO', 'PC_BDI_ESTIMADO',\n",
       "       'PC_ENCARGOS_SOCIAIS_ESTIMADO', 'CD_FONTE_REFERENCIA',\n",
       "       'DS_FONTE_REFERENCIA', 'TP_RESULTADO_ITEM', 'VL_UNITARIO_HOMOLOGADO',\n",
       "       'VL_TOTAL_HOMOLOGADO', 'PC_BDI_HOMOLOGADO',\n",
       "       'PC_ENCARGOS_SOCIAIS_HOMOLOGADO', 'TP_ORCAMENTO', 'CD_TIPO_FAMILIA',\n",
       "       'CD_TIPO_SUBFAMILIA', 'TP_DOCUMENTO', 'NR_DOCUMENTO', 'TP_DOCUMENTO.1',\n",
       "       'NR_DOCUMENTO.1', 'TP_BENEFICIO_MICRO_EPP', 'PC_TX_ESTIMADA',\n",
       "       'PC_TX_HOMOLOGADA'],\n",
       "      dtype='object')"
      ]
     },
     "execution_count": 3,
     "metadata": {},
     "output_type": "execute_result"
    }
   ],
   "source": [
    "dfs = [item2016, item2017, item2018, item2019]\n",
    "item_concat = pd.concat(dfs, axis=0, join='outer', ignore_index = True, verify_integrity=True)\n",
    "item_concat = item_concat.dropna(how='all', axis='columns')\n",
    "\n",
    "print('item_concat.shape: ', item_concat.shape)\n",
    "item_concat.columns"
   ]
  },
  {
   "cell_type": "code",
   "execution_count": 4,
   "metadata": {},
   "outputs": [
    {
     "name": "stdout",
     "output_type": "stream",
     "text": [
      "item_unique.shape:  (1114670, 32)\n",
      "Unique items:  15535\n",
      "Percentage of unique items:  0.04355268823956866 %\n"
     ]
    }
   ],
   "source": [
    "# Removing x duplicated considering \n",
    "# subset of characteristics (det_duplicated) defined to identify 'licitacoes'\n",
    "\n",
    "det_duplicated = ['NR_LICITACAO', 'ANO_LICITACAO', 'CD_TIPO_MODALIDADE', 'NR_LOTE', 'NR_ITEM']\n",
    "item_unique = item_concat.drop_duplicates(subset=det_duplicated, keep='last')\n",
    "\n",
    "\n",
    "\n",
    "unique = pd.concat([item_unique['NR_LICITACAO'],\n",
    "                    item_unique['ANO_LICITACAO'],\n",
    "                    item_unique['CD_TIPO_MODALIDADE'],\n",
    "                    item_unique['NR_LOTE'],\n",
    "                    item_unique['NR_ITEM']]).unique().size\n",
    "\n",
    "print('item_unique.shape: ', item_unique.shape)\n",
    "print('Unique items: ', unique)\n",
    "print('Percentage of unique items: ', 100*unique/item_unique.size, '%')"
   ]
  },
  {
   "cell_type": "code",
   "execution_count": 7,
   "metadata": {},
   "outputs": [
    {
     "name": "stdout",
     "output_type": "stream",
     "text": [
      "New CSV saved!\n"
     ]
    }
   ],
   "source": [
    "item_write = item_unique\n",
    "item_write.to_csv('item.csv')\n",
    "print(\"New CSV saved!\")"
   ]
  },
  {
   "cell_type": "markdown",
   "metadata": {},
   "source": [
    "## Não usei:\n",
    "\n",
    "Aqui eu comecei a agrupar as licitacoes por 'DS_ITEM', mas logo depois vi que os arquivos item.txt já têm essa informação por meio dos códigos de família de itens."
   ]
  },
  {
   "cell_type": "code",
   "execution_count": null,
   "metadata": {},
   "outputs": [],
   "source": [
    "item_simp = item_unique\n",
    "item_simp['DS_ITEM'] = item_simp['DS_ITEM'].apply(lambda x: re.sub(',|\\.|/|$|\\(|\\)|-|\\+|:|•|;', ' ', str(x)))\n",
    "item_simp['DS_ITEM'] = item_simp['DS_ITEM'].apply(lambda x: unidecode.unidecode(str(x).lower()))\n",
    "item_simp['DS_ITEM'] = item_simp['DS_ITEM'].apply(lambda x: re.sub(' +', ' ', str(x)))\n",
    "\n",
    "print('Unique obj: ', item_simp['DS_ITEM'].unique().size)\n",
    "print('Percentage of unique objects: ', 100*(item_simp['DS_ITEM'].unique().size)/item_simp['DS_ITEM'].size, '%')\n",
    "print(item_simp['DS_ITEM'])\n",
    "\n",
    "stopwords = nltk.corpus.stopwords.words('portuguese')\n",
    "stopwords = stopwords\n",
    "\n",
    "item_simp_clean = item_simp\n",
    "item_simp_clean['DS_ITEM'] = item_simp_clean['DS_ITEM'].apply(lambda x: [word for word in x.split() if word not in stopwords])\n",
    "\n",
    "item_simp_clean['DS_ITEM'] = item_simp_clean['DS_ITEM'].apply(lambda x: \" \".join(x))\n",
    "\n",
    "print('Unique obj: ', item_simp_clean['DS_ITEM'].unique().size)\n",
    "print('Percentage of unique objects: ', 100*(item_simp_clean['DS_ITEM'].unique().size)/item_simp_clean['DS_ITEM'].size, '%')\n",
    "print(item_simp_clean['DS_ITEM'])"
   ]
  }
 ],
 "metadata": {
  "kernelspec": {
   "display_name": "Python 3",
   "language": "python",
   "name": "python3"
  },
  "language_info": {
   "codemirror_mode": {
    "name": "ipython",
    "version": 3
   },
   "file_extension": ".py",
   "mimetype": "text/x-python",
   "name": "python",
   "nbconvert_exporter": "python",
   "pygments_lexer": "ipython3",
   "version": "3.8.10"
  }
 },
 "nbformat": 4,
 "nbformat_minor": 4
}
