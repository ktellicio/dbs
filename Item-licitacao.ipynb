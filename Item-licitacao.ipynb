{
 "cells": [
  {
   "cell_type": "markdown",
   "metadata": {},
   "source": [
    "# LicitaCon/TCE-RS: Exploratory Data Analysis\n",
    "\n",
    "\n",
    "\n",
    "\n",
    "Author: Karlson Tellicio Bezerra de Lima"
   ]
  },
  {
   "cell_type": "code",
   "execution_count": 19,
   "metadata": {
    "scrolled": true
   },
   "outputs": [],
   "source": [
    "import pandas as pd\n",
    "import seaborn as sns\n",
    "import numpy as np\n",
    "import unidecode\n",
    "import nltk\n",
    "import re\n",
    "import matplotlib.pyplot as plt\n",
    "%matplotlib inline \n",
    "\n",
    "pd.options.mode.chained_assignment = None  # default='warn'\n",
    "pd.set_option('display.max_columns', 999)\n",
    "\n",
    "path = 'licitacao.csv'\n",
    "licitacao = pd.read_csv(path, encoding='utf-8', header=0, sep=',', decimal=\",\", index_col=0);\n",
    "path = 'item.csv'\n",
    "item = pd.read_csv(path, encoding='utf-8', header=0, sep=',', decimal=\",\", index_col=0);"
   ]
  },
  {
   "cell_type": "code",
   "execution_count": 20,
   "metadata": {
    "scrolled": true
   },
   "outputs": [
    {
     "name": "stdout",
     "output_type": "stream",
     "text": [
      "(1114670, 32)\n",
      "(15365, 61)\n"
     ]
    }
   ],
   "source": [
    "print(item.shape)\n",
    "print(licitacao.shape)"
   ]
  },
  {
   "cell_type": "code",
   "execution_count": 21,
   "metadata": {},
   "outputs": [
    {
     "name": "stdout",
     "output_type": "stream",
     "text": [
      "item.shape:  (1114670, 32)\n",
      "licitacao.shape:  (15365, 61)\n"
     ]
    }
   ],
   "source": [
    "print('item.shape: ', item.shape)\n",
    "\n",
    "print('licitacao.shape: ', licitacao.shape)"
   ]
  },
  {
   "cell_type": "code",
   "execution_count": 22,
   "metadata": {},
   "outputs": [
    {
     "name": "stdout",
     "output_type": "stream",
     "text": [
      "df.shape:  (1295272, 90)\n"
     ]
    }
   ],
   "source": [
    "# Removing x duplicated considering \n",
    "# subset of characteristics (det_duplicated) defined to identify objects\n",
    "keys = ['NR_LICITACAO', 'ANO_LICITACAO', 'CD_TIPO_MODALIDADE']\n",
    "\n",
    "df = item.merge(licitacao, on=keys, how='left')\n",
    "\n",
    "print('df.shape: ', df.shape)"
   ]
  },
  {
   "cell_type": "code",
   "execution_count": 23,
   "metadata": {
    "scrolled": true
   },
   "outputs": [
    {
     "name": "stdout",
     "output_type": "stream",
     "text": [
      "Index(['CD_ORGAO_x', 'NR_LICITACAO', 'ANO_LICITACAO', 'CD_TIPO_MODALIDADE',\n",
      "       'NR_LOTE', 'NR_ITEM', 'NR_ITEM_ORIGINAL', 'DS_ITEM', 'QT_ITENS',\n",
      "       'SG_UNIDADE_MEDIDA', 'VL_UNITARIO_ESTIMADO', 'VL_TOTAL_ESTIMADO',\n",
      "       'DT_REF_VALOR_ESTIMADO', 'PC_BDI_ESTIMADO',\n",
      "       'PC_ENCARGOS_SOCIAIS_ESTIMADO', 'CD_FONTE_REFERENCIA',\n",
      "       'DS_FONTE_REFERENCIA', 'TP_RESULTADO_ITEM', 'VL_UNITARIO_HOMOLOGADO',\n",
      "       'VL_TOTAL_HOMOLOGADO', 'PC_BDI_HOMOLOGADO',\n",
      "       'PC_ENCARGOS_SOCIAIS_HOMOLOGADO', 'TP_ORCAMENTO', 'CD_TIPO_FAMILIA',\n",
      "       'CD_TIPO_SUBFAMILIA', 'TP_DOCUMENTO', 'NR_DOCUMENTO', 'TP_DOCUMENTO.1',\n",
      "       'NR_DOCUMENTO.1', 'TP_BENEFICIO_MICRO_EPP_x', 'PC_TX_ESTIMADA_x',\n",
      "       'PC_TX_HOMOLOGADA_x', 'CD_ORGAO_y', 'NM_ORGAO', 'NR_COMISSAO',\n",
      "       'ANO_COMISSAO', 'TP_COMISSAO', 'NR_PROCESSO', 'ANO_PROCESSO',\n",
      "       'TP_OBJETO', 'CD_TIPO_FASE_ATUAL', 'TP_LICITACAO',\n",
      "       'TP_NIVEL_JULGAMENTO', 'DT_AUTORIZACAO_ADESAO',\n",
      "       'TP_CARACTERISTICA_OBJETO', 'TP_NATUREZA', 'TP_REGIME_EXECUCAO',\n",
      "       'BL_PERMITE_SUBCONTRATACAO', 'TP_BENEFICIO_MICRO_EPP_y',\n",
      "       'TP_FORNECIMENTO', 'TP_ATUACAO_REGISTRO', 'NR_LICITACAO_ORIGINAL',\n",
      "       'ANO_LICITACAO_ORIGINAL', 'NR_ATA_REGISTRO_PRECO',\n",
      "       'DT_ATA_REGISTRO_PRECO', 'PC_TAXA_RISCO', 'TP_EXECUCAO', 'TP_DISPUTA',\n",
      "       'TP_PREQUALIFICACAO', 'BL_INVERSAO_FASES', 'TP_RESULTADO_GLOBAL',\n",
      "       'CNPJ_ORGAO_GERENCIADOR', 'NM_ORGAO_GERENCIADOR', 'DS_OBJETO',\n",
      "       'CD_TIPO_FUNDAMENTACAO', 'NR_ARTIGO', 'DS_INCISO', 'DS_LEI',\n",
      "       'DT_INICIO_INSCR_CRED', 'DT_FIM_INSCR_CRED', 'DT_INICIO_VIGEN_CRED',\n",
      "       'DT_FIM_VIGEN_CRED', 'VL_LICITACAO', 'BL_ORCAMENTO_SIGILOSO',\n",
      "       'BL_RECEBE_INSCRICAO_PER_VIG', 'BL_PERMITE_CONSORCIO', 'DT_ABERTURA',\n",
      "       'DT_HOMOLOGACAO', 'DT_ADJUDICACAO', 'BL_LICIT_PROPRIA_ORGAO',\n",
      "       'TP_DOCUMENTO_FORNECEDOR', 'NR_DOCUMENTO_FORNECEDOR',\n",
      "       'TP_DOCUMENTO_VENCEDOR', 'NR_DOCUMENTO_VENCEDOR', 'VL_HOMOLOGADO',\n",
      "       'BL_GERA_DESPESA', 'DS_OBSERVACAO', 'PC_TX_ESTIMADA_y',\n",
      "       'PC_TX_HOMOLOGADA_y', 'BL_COMPARTILHADA'],\n",
      "      dtype='object')\n"
     ]
    }
   ],
   "source": [
    "print(df.columns)"
   ]
  },
  {
   "cell_type": "code",
   "execution_count": 24,
   "metadata": {},
   "outputs": [
    {
     "data": {
      "text/plain": [
       "['PC_TX_ESTIMADA_y',\n",
       " 'PC_TX_HOMOLOGADA_y',\n",
       " 'PC_TX_HOMOLOGADA_x',\n",
       " 'PC_TX_ESTIMADA_x',\n",
       " 'DT_INICIO_VIGEN_CRED',\n",
       " 'DT_FIM_VIGEN_CRED',\n",
       " 'DT_INICIO_INSCR_CRED',\n",
       " 'DT_FIM_INSCR_CRED',\n",
       " 'TP_PREQUALIFICACAO',\n",
       " 'TP_DISPUTA',\n",
       " 'DS_INCISO',\n",
       " 'DS_LEI',\n",
       " 'DT_AUTORIZACAO_ADESAO',\n",
       " 'DT_ATA_REGISTRO_PRECO',\n",
       " 'NR_ATA_REGISTRO_PRECO']"
      ]
     },
     "execution_count": 24,
     "metadata": {},
     "output_type": "execute_result"
    }
   ],
   "source": [
    "C = 0 \n",
    "step = 15\n",
    "\n",
    "s = df.isnull().sum().sort_values(ascending=False)[C*step:(C+1)*step]\n",
    "na_columns = s.index.values.tolist()\n",
    "na_columns"
   ]
  },
  {
   "cell_type": "code",
   "execution_count": 25,
   "metadata": {},
   "outputs": [],
   "source": [
    "#s.plot.bar(rot=45, figsize=(15,8))"
   ]
  },
  {
   "cell_type": "code",
   "execution_count": 26,
   "metadata": {
    "scrolled": true
   },
   "outputs": [
    {
     "name": "stdout",
     "output_type": "stream",
     "text": [
      "df.shape after remove NaN:  (1295272, 88)\n"
     ]
    }
   ],
   "source": [
    "remove = ['TP_REGIME_EXECUCAO', 'PC_TAXA_RISCO'] # + na_columns\n",
    "df = df.drop(columns=remove)\n",
    "print(\"df.shape after remove NaN: \", df.shape)"
   ]
  },
  {
   "cell_type": "code",
   "execution_count": 27,
   "metadata": {},
   "outputs": [
    {
     "name": "stdout",
     "output_type": "stream",
     "text": [
      "df.size shape BL_...:  (1293814, 88)\n"
     ]
    }
   ],
   "source": [
    "idx = df[(df['BL_INVERSAO_FASES'] == 'CNC') | (df['BL_INVERSAO_FASES'] == 'TMP')].index\n",
    "df.drop(idx , inplace=True)\n",
    "\n",
    "idx = df[(df['DS_ITEM'] == 'mao obra') | (df['DS_ITEM'] == 'servico')].index\n",
    "df.drop(idx, inplace=True)\n",
    "\n",
    "df = df.reset_index(drop=True)\n",
    "print(\"df.size shape BL_...: \", df.shape)"
   ]
  },
  {
   "cell_type": "code",
   "execution_count": 28,
   "metadata": {},
   "outputs": [
    {
     "name": "stdout",
     "output_type": "stream",
     "text": [
      "New CSV saved!\n"
     ]
    }
   ],
   "source": [
    "df.to_csv('item-licitacao.csv')\n",
    "print(\"New CSV saved!\")"
   ]
  }
 ],
 "metadata": {
  "kernelspec": {
   "display_name": "Python 3",
   "language": "python",
   "name": "python3"
  },
  "language_info": {
   "codemirror_mode": {
    "name": "ipython",
    "version": 3
   },
   "file_extension": ".py",
   "mimetype": "text/x-python",
   "name": "python",
   "nbconvert_exporter": "python",
   "pygments_lexer": "ipython3",
   "version": "3.8.10"
  }
 },
 "nbformat": 4,
 "nbformat_minor": 4
}
